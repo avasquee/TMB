{
 "cells": [
  {
   "cell_type": "markdown",
   "metadata": {},
   "source": [
    "# TMB"
   ]
  },
  {
   "cell_type": "code",
   "execution_count": null,
   "metadata": {
    "vscode": {
     "languageId": "shellscript"
    }
   },
   "outputs": [
    {
     "ename": "",
     "evalue": "",
     "output_type": "error",
     "traceback": [
      "\u001b[1;31mRunning cells with 'pytmb (Python 3.9.12)' requires the ipykernel package.\n",
      "\u001b[1;31mRun the following command to install 'ipykernel' into the Python environment. \n",
      "\u001b[1;31mCommand: 'conda install -n pytmb ipykernel --update-deps --force-reinstall'"
     ]
    }
   ],
   "source": [
    "%%sh\n",
    "python pyTMB.py -i VCFs_PC2/PC-0016C.hard-filtered.vcf --effGenomeSize 37500000 \\\n",
    "--dbConfig config/annovar.yml \\\n",
    "--varConfig config/varscan.yml \\\n",
    "--maf 0.001 --minDepth 100 --minAltDepth 2\\\n",
    "--filterLowQual \\\n",
    "--filterNonCoding \\\n",
    "--filterSplice \\\n",
    "--filterSyn \\\n",
    "--filterPolym --polymDb 1k,gnomad \\\n",
    "--export > TMB_results.log\n",
    "\n"
   ]
  },
  {
   "cell_type": "markdown",
   "metadata": {},
   "source": []
  }
 ],
 "metadata": {
  "kernelspec": {
   "display_name": "pytmb",
   "language": "python",
   "name": "python3"
  },
  "language_info": {
   "codemirror_mode": {
    "name": "ipython",
    "version": 3
   },
   "file_extension": ".py",
   "mimetype": "text/x-python",
   "name": "python",
   "nbconvert_exporter": "python",
   "pygments_lexer": "ipython3",
   "version": "3.9.12"
  }
 },
 "nbformat": 4,
 "nbformat_minor": 2
}
